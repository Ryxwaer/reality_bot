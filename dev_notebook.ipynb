{
 "cells": [
  {
   "cell_type": "code",
   "id": "initial_id",
   "metadata": {
    "collapsed": true,
    "ExecuteTime": {
     "end_time": "2024-08-07T12:10:59.863331Z",
     "start_time": "2024-08-07T12:10:59.280668Z"
    }
   },
   "source": [
    "import sys\n",
    "from pathlib import Path\n",
    "import requests\n",
    "from typing import List, Any\n",
    "import pandas as pd\n",
    "import re\n",
    "import pymongo\n",
    "import os\n",
    "from dotenv import load_dotenv\n",
    "\n",
    "load_dotenv()\n",
    "\n",
    "# Ensure project root is in sys.path\n",
    "project_root = Path().resolve()\n",
    "if str(project_root) not in sys.path:\n",
    "    sys.path.insert(0, str(project_root))"
   ],
   "outputs": [],
   "execution_count": 3
  },
  {
   "cell_type": "code",
   "id": "5059f69109ee9a9f",
   "metadata": {
    "ExecuteTime": {
     "end_time": "2024-08-06T20:46:36.628923Z",
     "start_time": "2024-08-06T20:46:36.624126Z"
    }
   },
   "source": [
    "# Function to extract and compose URLs\n",
    "def extract_urls(id, estate):\n",
    "    seo = estate.get(\"seo\", {})\n",
    "    locality = seo.get(\"locality\", \"\")\n",
    "    name = estate.get(\"name\", \"\")\n",
    "    type = get_type_from_name(name)\n",
    "    if locality and name and id:\n",
    "        return f\"https://www.sreality.cz/detail/prodej/byt/{type}/{locality}/{id}\"\n",
    "    return \"\"\n",
    "\n",
    "def fetch_new_listings(url: str) -> List[dict]:\n",
    "    headers = {\n",
    "        'User-Agent': 'Mozilla/5.0 (Windows NT 10.0; Win64; x64) AppleWebKit/537.36 (KHTML, like Gecko) Chrome/58.0.3029.110 Safari/537.36',\n",
    "        'Accept': 'application/json',\n",
    "        'Content-Type': 'application/json',\n",
    "    }\n",
    "    response = requests.get(url, headers=headers)\n",
    "    if response.status_code == 200:\n",
    "        return response.json()\n",
    "    # throw error\n",
    "    response.raise_for_status()\n",
    "\n",
    "def get_type_from_name(name):\n",
    "    # Targets 1+1, 2+kk and similar paterns\n",
    "    pattern = r\"\\b(\\d+\\+\\S+)\\b\"\n",
    "    try:\n",
    "        type = re.findall(pattern, name)[0]\n",
    "    except IndexError:\n",
    "        type = \"Unknown\"\n",
    "    return type"
   ],
   "outputs": [],
   "execution_count": 21
  },
  {
   "cell_type": "code",
   "id": "fd023e9b",
   "metadata": {
    "ExecuteTime": {
     "end_time": "2024-08-06T20:58:09.458189Z",
     "start_time": "2024-08-06T20:58:08.246703Z"
    }
   },
   "source": [
    "# Define the Sreality API URL\n",
    "url = \"https://www.sreality.cz/api/cs/v2/estates?category_main_cb=1&category_type_cb=1&czk_price_summary_order2=0%7C3000000&locality_district_id=72&locality_region_id=14&per_page=20\"\n",
    "\n",
    "# Testing fetch_new_listings function with the URL parameter\n",
    "data = fetch_new_listings(url)\n",
    "print(\"Result Size:\",  data[\"result_size\"])\n",
    "\n",
    "current_date = pd.to_datetime(\"today\").strftime(\"%Y-%m-%dT%H:%M:%S\")\n",
    "\n",
    "# Extract estates details\n",
    "estates = data[\"_embedded\"][\"estates\"]\n",
    "# Create a list of dictionaries to store estate data\n",
    "estate_data = []\n",
    "for estate in estates:\n",
    "    id = estate.get(\"hash_id\", \"\")\n",
    "    estate_info = {\n",
    "        \"id\": id,\n",
    "        \"name\": estate[\"name\"],\n",
    "        \"locality\": estate[\"locality\"],\n",
    "        \"price\": estate[\"price\"],\n",
    "        \"features\": estate.get(\"labelsAll\", [])[0],\n",
    "        \"url\": extract_urls(id, estate),\n",
    "        \"scraped\": current_date,\n",
    "    }\n",
    "    estate_data.append(estate_info)\n",
    "\n",
    "# Create a DataFrame from the estate data\n",
    "df_estates = pd.DataFrame(estate_data)\n",
    "df_estates"
   ],
   "outputs": [
    {
     "name": "stdout",
     "output_type": "stream",
     "text": [
      "Result Size: 10\n"
     ]
    },
    {
     "data": {
      "text/plain": [
       "           id                    name                           locality  \\\n",
       "0  4195112268   Prodej bytu 1+1 24 m²            Cejl, Brno - Zábrdovice   \n",
       "1  3065926988  Prodej bytu 1+kk 16 m²                     Drobného, Brno   \n",
       "2  1716331852  Prodej bytu 1+kk 22 m²           Vlhká, Brno - Zábrdovice   \n",
       "3   115565900  Prodej bytu 1+kk 27 m²      Novoměstská, Brno - Řečkovice   \n",
       "4   484336972  Prodej bytu 1+kk 27 m²  Terezy Novákové, Brno - Řečkovice   \n",
       "5  3834922316   Dražba bytu 1+1 27 m²           Grmelova, Brno - Štýřice   \n",
       "6   196363596   Dražba bytu 1+1 26 m²          Gallašova, Brno - Štýřice   \n",
       "7  1405510988  Prodej bytu 1+kk 22 m²       Hostislavova, Brno - Žebětín   \n",
       "8  3314615628  Prodej bytu 1+kk 22 m²            Cejl, Brno - Zábrdovice   \n",
       "9  1577313612  Prodej bytu 1+kk 23 m²  Brno - Kníničky, okres Brno-město   \n",
       "\n",
       "     price                                           features  \\\n",
       "0  2990000                        [personal, brick, elevator]   \n",
       "1  2750000                          [personal, brick, cellar]   \n",
       "2  2999000                [personal, brick, partly_furnished]   \n",
       "3  2850000  [personal, after_reconstruction, panel, cellar...   \n",
       "4  2590000                 [personal, terrace, brick, cellar]   \n",
       "5  2300000                                     [state, brick]   \n",
       "6  2470000                                     [state, brick]   \n",
       "7  2590000     [personal, brick, parking_lots, not_furnished]   \n",
       "8  2390000             [personal, brick, elevator, furnished]   \n",
       "9  2910000  [new_building, personal, terrace, brick, eleva...   \n",
       "\n",
       "                                                 url              scraped  \n",
       "0  https://www.sreality.cz/detail/prodej/byt/1+1/...  2024-08-06T22:58:09  \n",
       "1  https://www.sreality.cz/detail/prodej/byt/1+kk...  2024-08-06T22:58:09  \n",
       "2  https://www.sreality.cz/detail/prodej/byt/1+kk...  2024-08-06T22:58:09  \n",
       "3  https://www.sreality.cz/detail/prodej/byt/1+kk...  2024-08-06T22:58:09  \n",
       "4  https://www.sreality.cz/detail/prodej/byt/1+kk...  2024-08-06T22:58:09  \n",
       "5  https://www.sreality.cz/detail/prodej/byt/1+1/...  2024-08-06T22:58:09  \n",
       "6  https://www.sreality.cz/detail/prodej/byt/1+1/...  2024-08-06T22:58:09  \n",
       "7  https://www.sreality.cz/detail/prodej/byt/1+kk...  2024-08-06T22:58:09  \n",
       "8  https://www.sreality.cz/detail/prodej/byt/1+kk...  2024-08-06T22:58:09  \n",
       "9  https://www.sreality.cz/detail/prodej/byt/1+kk...  2024-08-06T22:58:09  "
      ],
      "text/html": [
       "<div>\n",
       "<style scoped>\n",
       "    .dataframe tbody tr th:only-of-type {\n",
       "        vertical-align: middle;\n",
       "    }\n",
       "\n",
       "    .dataframe tbody tr th {\n",
       "        vertical-align: top;\n",
       "    }\n",
       "\n",
       "    .dataframe thead th {\n",
       "        text-align: right;\n",
       "    }\n",
       "</style>\n",
       "<table border=\"1\" class=\"dataframe\">\n",
       "  <thead>\n",
       "    <tr style=\"text-align: right;\">\n",
       "      <th></th>\n",
       "      <th>id</th>\n",
       "      <th>name</th>\n",
       "      <th>locality</th>\n",
       "      <th>price</th>\n",
       "      <th>features</th>\n",
       "      <th>url</th>\n",
       "      <th>scraped</th>\n",
       "    </tr>\n",
       "  </thead>\n",
       "  <tbody>\n",
       "    <tr>\n",
       "      <th>0</th>\n",
       "      <td>4195112268</td>\n",
       "      <td>Prodej bytu 1+1 24 m²</td>\n",
       "      <td>Cejl, Brno - Zábrdovice</td>\n",
       "      <td>2990000</td>\n",
       "      <td>[personal, brick, elevator]</td>\n",
       "      <td>https://www.sreality.cz/detail/prodej/byt/1+1/...</td>\n",
       "      <td>2024-08-06T22:58:09</td>\n",
       "    </tr>\n",
       "    <tr>\n",
       "      <th>1</th>\n",
       "      <td>3065926988</td>\n",
       "      <td>Prodej bytu 1+kk 16 m²</td>\n",
       "      <td>Drobného, Brno</td>\n",
       "      <td>2750000</td>\n",
       "      <td>[personal, brick, cellar]</td>\n",
       "      <td>https://www.sreality.cz/detail/prodej/byt/1+kk...</td>\n",
       "      <td>2024-08-06T22:58:09</td>\n",
       "    </tr>\n",
       "    <tr>\n",
       "      <th>2</th>\n",
       "      <td>1716331852</td>\n",
       "      <td>Prodej bytu 1+kk 22 m²</td>\n",
       "      <td>Vlhká, Brno - Zábrdovice</td>\n",
       "      <td>2999000</td>\n",
       "      <td>[personal, brick, partly_furnished]</td>\n",
       "      <td>https://www.sreality.cz/detail/prodej/byt/1+kk...</td>\n",
       "      <td>2024-08-06T22:58:09</td>\n",
       "    </tr>\n",
       "    <tr>\n",
       "      <th>3</th>\n",
       "      <td>115565900</td>\n",
       "      <td>Prodej bytu 1+kk 27 m²</td>\n",
       "      <td>Novoměstská, Brno - Řečkovice</td>\n",
       "      <td>2850000</td>\n",
       "      <td>[personal, after_reconstruction, panel, cellar...</td>\n",
       "      <td>https://www.sreality.cz/detail/prodej/byt/1+kk...</td>\n",
       "      <td>2024-08-06T22:58:09</td>\n",
       "    </tr>\n",
       "    <tr>\n",
       "      <th>4</th>\n",
       "      <td>484336972</td>\n",
       "      <td>Prodej bytu 1+kk 27 m²</td>\n",
       "      <td>Terezy Novákové, Brno - Řečkovice</td>\n",
       "      <td>2590000</td>\n",
       "      <td>[personal, terrace, brick, cellar]</td>\n",
       "      <td>https://www.sreality.cz/detail/prodej/byt/1+kk...</td>\n",
       "      <td>2024-08-06T22:58:09</td>\n",
       "    </tr>\n",
       "    <tr>\n",
       "      <th>5</th>\n",
       "      <td>3834922316</td>\n",
       "      <td>Dražba bytu 1+1 27 m²</td>\n",
       "      <td>Grmelova, Brno - Štýřice</td>\n",
       "      <td>2300000</td>\n",
       "      <td>[state, brick]</td>\n",
       "      <td>https://www.sreality.cz/detail/prodej/byt/1+1/...</td>\n",
       "      <td>2024-08-06T22:58:09</td>\n",
       "    </tr>\n",
       "    <tr>\n",
       "      <th>6</th>\n",
       "      <td>196363596</td>\n",
       "      <td>Dražba bytu 1+1 26 m²</td>\n",
       "      <td>Gallašova, Brno - Štýřice</td>\n",
       "      <td>2470000</td>\n",
       "      <td>[state, brick]</td>\n",
       "      <td>https://www.sreality.cz/detail/prodej/byt/1+1/...</td>\n",
       "      <td>2024-08-06T22:58:09</td>\n",
       "    </tr>\n",
       "    <tr>\n",
       "      <th>7</th>\n",
       "      <td>1405510988</td>\n",
       "      <td>Prodej bytu 1+kk 22 m²</td>\n",
       "      <td>Hostislavova, Brno - Žebětín</td>\n",
       "      <td>2590000</td>\n",
       "      <td>[personal, brick, parking_lots, not_furnished]</td>\n",
       "      <td>https://www.sreality.cz/detail/prodej/byt/1+kk...</td>\n",
       "      <td>2024-08-06T22:58:09</td>\n",
       "    </tr>\n",
       "    <tr>\n",
       "      <th>8</th>\n",
       "      <td>3314615628</td>\n",
       "      <td>Prodej bytu 1+kk 22 m²</td>\n",
       "      <td>Cejl, Brno - Zábrdovice</td>\n",
       "      <td>2390000</td>\n",
       "      <td>[personal, brick, elevator, furnished]</td>\n",
       "      <td>https://www.sreality.cz/detail/prodej/byt/1+kk...</td>\n",
       "      <td>2024-08-06T22:58:09</td>\n",
       "    </tr>\n",
       "    <tr>\n",
       "      <th>9</th>\n",
       "      <td>1577313612</td>\n",
       "      <td>Prodej bytu 1+kk 23 m²</td>\n",
       "      <td>Brno - Kníničky, okres Brno-město</td>\n",
       "      <td>2910000</td>\n",
       "      <td>[new_building, personal, terrace, brick, eleva...</td>\n",
       "      <td>https://www.sreality.cz/detail/prodej/byt/1+kk...</td>\n",
       "      <td>2024-08-06T22:58:09</td>\n",
       "    </tr>\n",
       "  </tbody>\n",
       "</table>\n",
       "</div>"
      ]
     },
     "execution_count": 28,
     "metadata": {},
     "output_type": "execute_result"
    }
   ],
   "execution_count": 28
  },
  {
   "metadata": {
    "ExecuteTime": {
     "end_time": "2024-08-06T20:46:37.266648Z",
     "start_time": "2024-08-06T20:46:37.262937Z"
    }
   },
   "cell_type": "code",
   "source": [
    "# save data into json file\n",
    "df_estates.to_json(\"data.json\", orient=\"records\")"
   ],
   "id": "adb089ef862f16e0",
   "outputs": [],
   "execution_count": 23
  },
  {
   "cell_type": "code",
   "id": "08e42658",
   "metadata": {
    "ExecuteTime": {
     "end_time": "2024-08-06T20:46:37.469753Z",
     "start_time": "2024-08-06T20:46:37.268565Z"
    }
   },
   "source": [
    "client = pymongo.MongoClient(os.getenv(\"DB_URI\"))\n",
    "\n",
    "db = client[\"sreality\"]\n",
    "\n",
    "for config in db[\"config\"].find({\"enabled\": True}):\n",
    "    print(config)\n",
    "\n",
    "    "
   ],
   "outputs": [
    {
     "name": "stdout",
     "output_type": "stream",
     "text": [
      "{'_id': 1, 'subject': 'Brno', 'recipients': 'ryxwaer@gmail.com', 'url': 'https://www.sreality.cz/api/cs/v2/estates?category_main_cb=1&category_type_cb=1&czk_price_summary_order2=0%7C3000000&locality_district_id=72&locality_region_id=14&per_page=20&tms=1722505898806', 'enabled': True}\n"
     ]
    }
   ],
   "execution_count": 24
  },
  {
   "cell_type": "code",
   "id": "e0e08f2cece86c26",
   "metadata": {
    "ExecuteTime": {
     "end_time": "2024-08-06T20:56:48.313799Z",
     "start_time": "2024-08-06T20:56:47.750694Z"
    }
   },
   "source": [
    "import requests\n",
    "from typing import List\n",
    "\n",
    "def fetch_new_listings2(url: str) -> List[dict]:\n",
    "    headers = {\n",
    "        'User-Agent': 'Mozilla/5.0 (Windows NT 10.0; Win64; x64) AppleWebKit/537.36 (KHTML, like Gecko) Chrome/58.0.3029.110 Safari/537.36',\n",
    "        'Accept': 'application/json',\n",
    "        'Content-Type': 'application/json',\n",
    "    }\n",
    "    response = requests.get(url, headers=headers)\n",
    "    if response.status_code == 200:\n",
    "        return response.json()\n",
    "    # throw error\n",
    "    response.raise_for_status()\n",
    "\n",
    "# Usage example\n",
    "url = 'https://www.sreality.cz/api/cs/v2/estates?category_main_cb=1&category_type_cb=1&czk_price_summary_order2=0%7C3000000&locality_district_id=72&locality_region_id=14&per_page=20'\n",
    "listings = fetch_new_listings2(url)\n",
    "# save data into json file\n",
    "df_estates = pd.DataFrame(listings[\"_embedded\"][\"estates\"])\n",
    "df_estates.to_json(\"data.json\", orient=\"records\")"
   ],
   "outputs": [],
   "execution_count": 27
  },
  {
   "metadata": {
    "ExecuteTime": {
     "end_time": "2024-08-07T12:15:36.075097Z",
     "start_time": "2024-08-07T12:15:36.066784Z"
    }
   },
   "cell_type": "code",
   "source": [
    "def compose_email_body(new_listings):\n",
    "    formatted_listings = \"\".join(\n",
    "        [f\"<a href='{listing['url']}' style='text-decoration: none; color: inherit;' target='_blank'>\"\n",
    "         f\"<div style='margin-bottom: 20px; padding: 20px; border: 1px solid #e0e0e0; border-radius: 8px; box-shadow: 0 2px 8px rgba(0,0,0,0.1); transition: box-shadow 0.3s ease-in-out;'>\"\n",
    "         f\"<h2 style='margin: 0 0 10px; font-size: 1.5em; color: #2c3e50;'>{listing['name']}</h2>\"\n",
    "         f\"<p style='margin: 10px 0; color: #27ae60; font-weight: bold; font-size: 1.2em;'>{listing['price']} CZK</p>\"\n",
    "         f\"<p style='margin: 5px 0; font-size: 1em; color: #555;'><strong>Locality:</strong> {listing['locality']}</p>\"\n",
    "         f\"<p style='margin: 5px 0; font-size: 1em; color: #555;'><strong>Features:</strong> {listing['features']}</p>\"\n",
    "         f\"</div>\"\n",
    "         f\"</a>\"\n",
    "         for _, listing in new_listings.iterrows()]\n",
    "    )\n",
    "    return f\"<html><body style='font-family: Arial, sans-serif; line-height: 1.6;'>{formatted_listings}</body></html>\"\n",
    "\n",
    "new_listings = [\n",
    "    {\"name\": \"Listing 1\", \"price\": 1000, \"url\": \"http://example.com/1\", \"locality\": \"Locality 1\", \"features\": \"Feature 1\"},\n",
    "    {\"name\": \"Listing 2\", \"price\": 2000, \"url\": \"http://example.com/2\", \"locality\": \"Locality 2\", \"features\": \"Feature 2\"}\n",
    "]\n",
    "\n",
    "new_listings = pd.DataFrame(new_listings)\n",
    "\n",
    "print(compose_email_body(new_listings))"
   ],
   "id": "3b84700a281fb2cf",
   "outputs": [
    {
     "name": "stdout",
     "output_type": "stream",
     "text": [
      "<html><body style='font-family: Arial, sans-serif; line-height: 1.6;'><a href='http://example.com/1' style='text-decoration: none; color: inherit;' target='_blank'><div style='margin-bottom: 20px; padding: 20px; border: 1px solid #e0e0e0; border-radius: 8px; box-shadow: 0 2px 8px rgba(0,0,0,0.1); transition: box-shadow 0.3s ease-in-out;'><h2 style='margin: 0 0 10px; font-size: 1.5em; color: #2c3e50;'>Listing 1</h2><p style='margin: 10px 0; color: #27ae60; font-weight: bold; font-size: 1.2em;'>1000 CZK</p><p style='margin: 5px 0; font-size: 1em; color: #555;'><strong>Locality:</strong> Locality 1</p><p style='margin: 5px 0; font-size: 1em; color: #555;'><strong>Features:</strong> Feature 1</p></div></a><a href='http://example.com/2' style='text-decoration: none; color: inherit;' target='_blank'><div style='margin-bottom: 20px; padding: 20px; border: 1px solid #e0e0e0; border-radius: 8px; box-shadow: 0 2px 8px rgba(0,0,0,0.1); transition: box-shadow 0.3s ease-in-out;'><h2 style='margin: 0 0 10px; font-size: 1.5em; color: #2c3e50;'>Listing 2</h2><p style='margin: 10px 0; color: #27ae60; font-weight: bold; font-size: 1.2em;'>2000 CZK</p><p style='margin: 5px 0; font-size: 1em; color: #555;'><strong>Locality:</strong> Locality 2</p><p style='margin: 5px 0; font-size: 1em; color: #555;'><strong>Features:</strong> Feature 2</p></div></a></body></html>\n"
     ]
    }
   ],
   "execution_count": 7
  }
 ],
 "metadata": {
  "kernelspec": {
   "display_name": "Python 3",
   "language": "python",
   "name": "python3"
  },
  "language_info": {
   "codemirror_mode": {
    "name": "ipython",
    "version": 3
   },
   "file_extension": ".py",
   "mimetype": "text/x-python",
   "name": "python",
   "nbconvert_exporter": "python",
   "pygments_lexer": "ipython3",
   "version": "3.12.4"
  }
 },
 "nbformat": 4,
 "nbformat_minor": 5
}
